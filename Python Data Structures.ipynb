{
 "cells": [
  {
   "cell_type": "markdown",
   "id": "72d96d58",
   "metadata": {},
   "source": [
    "## 4 Data Structures in Python\n",
    "\n",
    "1. List\n",
    "2. Sets\n",
    "3. Tuple\n",
    "4. Dict"
   ]
  },
  {
   "cell_type": "markdown",
   "id": "d5f7fa58",
   "metadata": {},
   "source": [
    "# 1. List"
   ]
  },
  {
   "cell_type": "markdown",
   "id": "0f38a1ee",
   "metadata": {},
   "source": [
    "* 1D\n",
    "* Heterogenous\n",
    "* Mutable\n",
    "* Indexable and Sliceable\n",
    "* Allows Duplicate Values"
   ]
  },
  {
   "cell_type": "code",
   "execution_count": 1,
   "id": "7daa49cf",
   "metadata": {},
   "outputs": [
    {
     "data": {
      "text/plain": [
       "[]"
      ]
     },
     "execution_count": 1,
     "metadata": {},
     "output_type": "execute_result"
    }
   ],
   "source": [
    "empty_cart_1 = [] #Initializing list\n",
    "empty_cart_1"
   ]
  },
  {
   "cell_type": "code",
   "execution_count": 2,
   "id": "18deabf9",
   "metadata": {},
   "outputs": [
    {
     "data": {
      "text/plain": [
       "list"
      ]
     },
     "execution_count": 2,
     "metadata": {},
     "output_type": "execute_result"
    }
   ],
   "source": [
    "type(empty_cart_1)"
   ]
  },
  {
   "cell_type": "code",
   "execution_count": 8,
   "id": "16719480",
   "metadata": {},
   "outputs": [
    {
     "data": {
      "text/plain": [
       "['Oats', 'Milk', 'Almonds', 'Cashews', 'Banana', 'Oats']"
      ]
     },
     "execution_count": 8,
     "metadata": {},
     "output_type": "execute_result"
    }
   ],
   "source": [
    "items_to_buy = ['Oats','Milk','Almonds','Cashews','Banana','Oats']\n",
    "items_to_buy"
   ]
  },
  {
   "cell_type": "code",
   "execution_count": 9,
   "id": "3d82e657",
   "metadata": {},
   "outputs": [
    {
     "data": {
      "text/plain": [
       "'Cashews'"
      ]
     },
     "execution_count": 9,
     "metadata": {},
     "output_type": "execute_result"
    }
   ],
   "source": [
    "items_to_buy[3]"
   ]
  },
  {
   "cell_type": "code",
   "execution_count": 10,
   "id": "f6935d6e",
   "metadata": {},
   "outputs": [
    {
     "data": {
      "text/plain": [
       "['Oats', 'Milk', 'Almonds', 'Cashews']"
      ]
     },
     "execution_count": 10,
     "metadata": {},
     "output_type": "execute_result"
    }
   ],
   "source": [
    "items_to_buy[:-2]"
   ]
  },
  {
   "cell_type": "code",
   "execution_count": 11,
   "id": "1a6748fe",
   "metadata": {},
   "outputs": [],
   "source": [
    "items_to_buy[3] = 'Spinach' #Mutable"
   ]
  },
  {
   "cell_type": "code",
   "execution_count": 12,
   "id": "7812ad24",
   "metadata": {},
   "outputs": [
    {
     "data": {
      "text/plain": [
       "['Oats', 'Milk', 'Almonds', 'Spinach', 'Banana', 'Oats']"
      ]
     },
     "execution_count": 12,
     "metadata": {},
     "output_type": "execute_result"
    }
   ],
   "source": [
    "items_to_buy"
   ]
  },
  {
   "cell_type": "code",
   "execution_count": 27,
   "id": "276cf4c3",
   "metadata": {},
   "outputs": [],
   "source": [
    "items_to_buy.insert(2,'Potato')"
   ]
  },
  {
   "cell_type": "code",
   "execution_count": 29,
   "id": "e973b128",
   "metadata": {},
   "outputs": [
    {
     "data": {
      "text/plain": [
       "['Oats', 'Milk', 'Potato', 'Almonds', 'Spinach', 'Banana', 'Oats']"
      ]
     },
     "execution_count": 29,
     "metadata": {},
     "output_type": "execute_result"
    }
   ],
   "source": [
    "items_to_buy"
   ]
  },
  {
   "cell_type": "code",
   "execution_count": 30,
   "id": "f5162bc5",
   "metadata": {},
   "outputs": [],
   "source": [
    "empty_data = []\n",
    "\n",
    "for i in range(1,11):\n",
    "    empty_data.append(i)"
   ]
  },
  {
   "cell_type": "code",
   "execution_count": 31,
   "id": "222d9975",
   "metadata": {},
   "outputs": [
    {
     "data": {
      "text/plain": [
       "[1, 2, 3, 4, 5, 6, 7, 8, 9, 10]"
      ]
     },
     "execution_count": 31,
     "metadata": {},
     "output_type": "execute_result"
    }
   ],
   "source": [
    "empty_data"
   ]
  },
  {
   "cell_type": "markdown",
   "id": "6ebf8987",
   "metadata": {},
   "source": [
    "## 2. Sets"
   ]
  },
  {
   "cell_type": "markdown",
   "id": "67931986",
   "metadata": {},
   "source": [
    "* 1D\n",
    "* Heteregenous\n",
    "* Mutable\n",
    "* Doesn't allow duplicate values\n",
    "* Not Indexable and Sliceable"
   ]
  },
  {
   "cell_type": "code",
   "execution_count": 13,
   "id": "1b744a7f",
   "metadata": {},
   "outputs": [
    {
     "data": {
      "text/plain": [
       "set()"
      ]
     },
     "execution_count": 13,
     "metadata": {},
     "output_type": "execute_result"
    }
   ],
   "source": [
    "empty_cart_2 = set()\n",
    "empty_cart_2"
   ]
  },
  {
   "cell_type": "code",
   "execution_count": 14,
   "id": "7c356e04",
   "metadata": {},
   "outputs": [
    {
     "data": {
      "text/plain": [
       "set"
      ]
     },
     "execution_count": 14,
     "metadata": {},
     "output_type": "execute_result"
    }
   ],
   "source": [
    "type(empty_cart_2)"
   ]
  },
  {
   "cell_type": "code",
   "execution_count": 53,
   "id": "153c0a19",
   "metadata": {},
   "outputs": [
    {
     "data": {
      "text/plain": [
       "{1, 4, 5, 7, 'Almonds', 'Banana', 'Cashews', 'Milk', 'Oats'}"
      ]
     },
     "execution_count": 53,
     "metadata": {},
     "output_type": "execute_result"
    }
   ],
   "source": [
    "items_to_buy_2 = {'Oats','Milk','Almonds','Cashews','Banana','Oats',5,4,7,1}\n",
    "items_to_buy_2"
   ]
  },
  {
   "cell_type": "code",
   "execution_count": 51,
   "id": "acf9ee35",
   "metadata": {},
   "outputs": [
    {
     "data": {
      "text/plain": [
       "set"
      ]
     },
     "execution_count": 51,
     "metadata": {},
     "output_type": "execute_result"
    }
   ],
   "source": [
    "type(items_to_buy_2)"
   ]
  },
  {
   "cell_type": "code",
   "execution_count": 19,
   "id": "e44b3f3e",
   "metadata": {},
   "outputs": [
    {
     "ename": "TypeError",
     "evalue": "'set' object is not subscriptable",
     "output_type": "error",
     "traceback": [
      "\u001b[1;31m---------------------------------------------------------------------------\u001b[0m",
      "\u001b[1;31mTypeError\u001b[0m                                 Traceback (most recent call last)",
      "\u001b[1;32m<ipython-input-19-4e5fe36f94af>\u001b[0m in \u001b[0;36m<module>\u001b[1;34m\u001b[0m\n\u001b[1;32m----> 1\u001b[1;33m \u001b[0mitems_to_buy_2\u001b[0m\u001b[1;33m[\u001b[0m\u001b[1;33m-\u001b[0m\u001b[1;36m2\u001b[0m\u001b[1;33m]\u001b[0m\u001b[1;33m\u001b[0m\u001b[1;33m\u001b[0m\u001b[0m\n\u001b[0m",
      "\u001b[1;31mTypeError\u001b[0m: 'set' object is not subscriptable"
     ]
    }
   ],
   "source": [
    "items_to_buy_2[-2]"
   ]
  },
  {
   "cell_type": "code",
   "execution_count": 20,
   "id": "57bf49ef",
   "metadata": {},
   "outputs": [
    {
     "ename": "TypeError",
     "evalue": "'set' object is not subscriptable",
     "output_type": "error",
     "traceback": [
      "\u001b[1;31m---------------------------------------------------------------------------\u001b[0m",
      "\u001b[1;31mTypeError\u001b[0m                                 Traceback (most recent call last)",
      "\u001b[1;32m<ipython-input-20-20ccfb685ad8>\u001b[0m in \u001b[0;36m<module>\u001b[1;34m\u001b[0m\n\u001b[1;32m----> 1\u001b[1;33m \u001b[0mitems_to_buy_2\u001b[0m\u001b[1;33m[\u001b[0m\u001b[1;36m3\u001b[0m\u001b[1;33m]\u001b[0m\u001b[1;33m\u001b[0m\u001b[1;33m\u001b[0m\u001b[0m\n\u001b[0m",
      "\u001b[1;31mTypeError\u001b[0m: 'set' object is not subscriptable"
     ]
    }
   ],
   "source": [
    "items_to_buy_2[3]"
   ]
  },
  {
   "cell_type": "code",
   "execution_count": 21,
   "id": "b097c45f",
   "metadata": {},
   "outputs": [
    {
     "ename": "TypeError",
     "evalue": "'set' object is not subscriptable",
     "output_type": "error",
     "traceback": [
      "\u001b[1;31m---------------------------------------------------------------------------\u001b[0m",
      "\u001b[1;31mTypeError\u001b[0m                                 Traceback (most recent call last)",
      "\u001b[1;32m<ipython-input-21-831b0b266ecf>\u001b[0m in \u001b[0;36m<module>\u001b[1;34m\u001b[0m\n\u001b[1;32m----> 1\u001b[1;33m \u001b[0mitems_to_buy_2\u001b[0m\u001b[1;33m[\u001b[0m\u001b[1;33m:\u001b[0m\u001b[1;33m-\u001b[0m\u001b[1;36m2\u001b[0m\u001b[1;33m]\u001b[0m\u001b[1;33m\u001b[0m\u001b[1;33m\u001b[0m\u001b[0m\n\u001b[0m",
      "\u001b[1;31mTypeError\u001b[0m: 'set' object is not subscriptable"
     ]
    }
   ],
   "source": [
    "items_to_buy_2[:-2]"
   ]
  },
  {
   "cell_type": "code",
   "execution_count": 22,
   "id": "3abdbd5b",
   "metadata": {},
   "outputs": [
    {
     "ename": "TypeError",
     "evalue": "'set' object does not support item assignment",
     "output_type": "error",
     "traceback": [
      "\u001b[1;31m---------------------------------------------------------------------------\u001b[0m",
      "\u001b[1;31mTypeError\u001b[0m                                 Traceback (most recent call last)",
      "\u001b[1;32m<ipython-input-22-49eef4365320>\u001b[0m in \u001b[0;36m<module>\u001b[1;34m\u001b[0m\n\u001b[1;32m----> 1\u001b[1;33m \u001b[0mitems_to_buy_2\u001b[0m\u001b[1;33m[\u001b[0m\u001b[1;36m3\u001b[0m\u001b[1;33m]\u001b[0m \u001b[1;33m=\u001b[0m \u001b[1;34m'Tomato'\u001b[0m\u001b[1;33m\u001b[0m\u001b[1;33m\u001b[0m\u001b[0m\n\u001b[0m",
      "\u001b[1;31mTypeError\u001b[0m: 'set' object does not support item assignment"
     ]
    }
   ],
   "source": [
    "items_to_buy_2[3] = 'Tomato'"
   ]
  },
  {
   "cell_type": "code",
   "execution_count": 23,
   "id": "333bb003",
   "metadata": {},
   "outputs": [],
   "source": [
    "items_to_buy_2.add('Beans')"
   ]
  },
  {
   "cell_type": "code",
   "execution_count": 24,
   "id": "501cde5c",
   "metadata": {},
   "outputs": [
    {
     "data": {
      "text/plain": [
       "{'Almonds', 'Banana', 'Beans', 'Cashews', 'Milk', 'Oats'}"
      ]
     },
     "execution_count": 24,
     "metadata": {},
     "output_type": "execute_result"
    }
   ],
   "source": [
    "items_to_buy_2"
   ]
  },
  {
   "cell_type": "code",
   "execution_count": 25,
   "id": "67e6c293",
   "metadata": {},
   "outputs": [],
   "source": [
    "items_to_buy_2.clear()"
   ]
  },
  {
   "cell_type": "code",
   "execution_count": 26,
   "id": "b1c2eb3a",
   "metadata": {},
   "outputs": [
    {
     "data": {
      "text/plain": [
       "set()"
      ]
     },
     "execution_count": 26,
     "metadata": {},
     "output_type": "execute_result"
    }
   ],
   "source": [
    "items_to_buy_2"
   ]
  },
  {
   "cell_type": "markdown",
   "id": "7b0aea98",
   "metadata": {},
   "source": [
    "## ======================================================================="
   ]
  },
  {
   "cell_type": "markdown",
   "id": "d89a9d07",
   "metadata": {},
   "source": [
    "## DAILY TASK - 3 Come up with 1 example for all data structure related functions."
   ]
  },
  {
   "cell_type": "markdown",
   "id": "b4d307a6",
   "metadata": {},
   "source": [
    "## DAILY TASK - 4 Explore List Comprehension"
   ]
  },
  {
   "cell_type": "markdown",
   "id": "fff1697e",
   "metadata": {},
   "source": [
    "## ======================================================================="
   ]
  },
  {
   "cell_type": "markdown",
   "id": "c069e7f4",
   "metadata": {},
   "source": [
    "# 3. Tuple"
   ]
  },
  {
   "cell_type": "markdown",
   "id": "3f639c30",
   "metadata": {},
   "source": [
    "* 1D\n",
    "* Heteregenous\n",
    "* Immutable\n",
    "* Indexable and Sliceable\n",
    "* Allows Duplicate values"
   ]
  },
  {
   "cell_type": "code",
   "execution_count": 32,
   "id": "bbce060d",
   "metadata": {},
   "outputs": [
    {
     "data": {
      "text/plain": [
       "()"
      ]
     },
     "execution_count": 32,
     "metadata": {},
     "output_type": "execute_result"
    }
   ],
   "source": [
    "empty_cart_3 = ()\n",
    "empty_cart_3"
   ]
  },
  {
   "cell_type": "code",
   "execution_count": 33,
   "id": "d72cf71f",
   "metadata": {},
   "outputs": [
    {
     "data": {
      "text/plain": [
       "tuple"
      ]
     },
     "execution_count": 33,
     "metadata": {},
     "output_type": "execute_result"
    }
   ],
   "source": [
    "type(empty_cart_3)"
   ]
  },
  {
   "cell_type": "code",
   "execution_count": 49,
   "id": "420d86e2",
   "metadata": {},
   "outputs": [
    {
     "data": {
      "text/plain": [
       "('Oats', 'Milk', 'Almonds', 'Cashews', 'Banana', 'Oats')"
      ]
     },
     "execution_count": 49,
     "metadata": {},
     "output_type": "execute_result"
    }
   ],
   "source": [
    "items_to_buy_3 = ('Oats','Milk','Almonds','Cashews','Banana','Oats')\n",
    "items_to_buy_3"
   ]
  },
  {
   "cell_type": "code",
   "execution_count": 41,
   "id": "00735f13",
   "metadata": {},
   "outputs": [
    {
     "data": {
      "text/plain": [
       "tuple"
      ]
     },
     "execution_count": 41,
     "metadata": {},
     "output_type": "execute_result"
    }
   ],
   "source": [
    "type(items_to_buy_3)"
   ]
  },
  {
   "cell_type": "code",
   "execution_count": 42,
   "id": "e7b6b089",
   "metadata": {},
   "outputs": [
    {
     "data": {
      "text/plain": [
       "6"
      ]
     },
     "execution_count": 42,
     "metadata": {},
     "output_type": "execute_result"
    }
   ],
   "source": [
    "len(items_to_buy_3)"
   ]
  },
  {
   "cell_type": "code",
   "execution_count": 43,
   "id": "50900e16",
   "metadata": {},
   "outputs": [
    {
     "data": {
      "text/plain": [
       "'Milk'"
      ]
     },
     "execution_count": 43,
     "metadata": {},
     "output_type": "execute_result"
    }
   ],
   "source": [
    "items_to_buy_3[1]"
   ]
  },
  {
   "cell_type": "code",
   "execution_count": 44,
   "id": "5afcb6ba",
   "metadata": {},
   "outputs": [
    {
     "data": {
      "text/plain": [
       "('Milk', 'Almonds')"
      ]
     },
     "execution_count": 44,
     "metadata": {},
     "output_type": "execute_result"
    }
   ],
   "source": [
    "items_to_buy_3[1:3]"
   ]
  },
  {
   "cell_type": "code",
   "execution_count": 45,
   "id": "733d3615",
   "metadata": {},
   "outputs": [
    {
     "ename": "TypeError",
     "evalue": "'tuple' object does not support item assignment",
     "output_type": "error",
     "traceback": [
      "\u001b[1;31m---------------------------------------------------------------------------\u001b[0m",
      "\u001b[1;31mTypeError\u001b[0m                                 Traceback (most recent call last)",
      "\u001b[1;32m<ipython-input-45-ffd3bab58875>\u001b[0m in \u001b[0;36m<module>\u001b[1;34m\u001b[0m\n\u001b[1;32m----> 1\u001b[1;33m \u001b[0mitems_to_buy_3\u001b[0m\u001b[1;33m[\u001b[0m\u001b[1;36m0\u001b[0m\u001b[1;33m]\u001b[0m \u001b[1;33m=\u001b[0m \u001b[1;34m'Apple'\u001b[0m\u001b[1;33m\u001b[0m\u001b[1;33m\u001b[0m\u001b[0m\n\u001b[0m",
      "\u001b[1;31mTypeError\u001b[0m: 'tuple' object does not support item assignment"
     ]
    }
   ],
   "source": [
    "items_to_buy_3[0] = 'Apple'"
   ]
  },
  {
   "cell_type": "code",
   "execution_count": 47,
   "id": "54e26fde",
   "metadata": {},
   "outputs": [
    {
     "data": {
      "text/plain": [
       "2"
      ]
     },
     "execution_count": 47,
     "metadata": {},
     "output_type": "execute_result"
    }
   ],
   "source": [
    "items_to_buy_3.count('Oats')"
   ]
  },
  {
   "cell_type": "markdown",
   "id": "b696f558",
   "metadata": {},
   "source": [
    "# 4. Dict\n",
    "\n",
    "It is a **KEY-VALUE** pair."
   ]
  },
  {
   "cell_type": "code",
   "execution_count": 54,
   "id": "06abee28",
   "metadata": {},
   "outputs": [
    {
     "data": {
      "text/plain": [
       "{}"
      ]
     },
     "execution_count": 54,
     "metadata": {},
     "output_type": "execute_result"
    }
   ],
   "source": [
    "empty_cart_4 = {}\n",
    "empty_cart_4"
   ]
  },
  {
   "cell_type": "code",
   "execution_count": 55,
   "id": "7fe80bfd",
   "metadata": {},
   "outputs": [
    {
     "data": {
      "text/plain": [
       "dict"
      ]
     },
     "execution_count": 55,
     "metadata": {},
     "output_type": "execute_result"
    }
   ],
   "source": [
    "type(empty_cart_4)"
   ]
  },
  {
   "cell_type": "code",
   "execution_count": 60,
   "id": "62e863e8",
   "metadata": {},
   "outputs": [
    {
     "data": {
      "text/plain": [
       "{'Potato': 2, 'Oats': 1, 'Apple': 2}"
      ]
     },
     "execution_count": 60,
     "metadata": {},
     "output_type": "execute_result"
    }
   ],
   "source": [
    "items_to_buy_4 = {'Potato':2,\n",
    "                  'Oats':1,\n",
    "                  'Apple':2}\n",
    "items_to_buy_4"
   ]
  },
  {
   "cell_type": "code",
   "execution_count": 57,
   "id": "bc375848",
   "metadata": {},
   "outputs": [],
   "source": [
    "items_to_buy_4.clear()"
   ]
  },
  {
   "cell_type": "code",
   "execution_count": 61,
   "id": "79a8c71e",
   "metadata": {},
   "outputs": [
    {
     "data": {
      "text/plain": [
       "{'Potato': 2, 'Oats': 1, 'Apple': 2}"
      ]
     },
     "execution_count": 61,
     "metadata": {},
     "output_type": "execute_result"
    }
   ],
   "source": [
    "items_to_buy_4"
   ]
  },
  {
   "cell_type": "code",
   "execution_count": 62,
   "id": "58519242",
   "metadata": {},
   "outputs": [
    {
     "data": {
      "text/plain": [
       "dict_keys(['Potato', 'Oats', 'Apple'])"
      ]
     },
     "execution_count": 62,
     "metadata": {},
     "output_type": "execute_result"
    }
   ],
   "source": [
    "items_to_buy_4.keys()"
   ]
  },
  {
   "cell_type": "code",
   "execution_count": 63,
   "id": "8cb0eb1b",
   "metadata": {},
   "outputs": [
    {
     "data": {
      "text/plain": [
       "dict_values([2, 1, 2])"
      ]
     },
     "execution_count": 63,
     "metadata": {},
     "output_type": "execute_result"
    }
   ],
   "source": [
    "items_to_buy_4.values()"
   ]
  },
  {
   "cell_type": "code",
   "execution_count": 81,
   "id": "d29c8529",
   "metadata": {},
   "outputs": [
    {
     "data": {
      "text/plain": [
       "{'Name': ['Sharan', 'Sandeep', 'Chandana', 'Aishwarya'],\n",
       " 'Age': [23, 24, 25, 22],\n",
       " 'Place': ['Bangalore', 'Kerala', 'Chennai', 'Bangalore']}"
      ]
     },
     "execution_count": 81,
     "metadata": {},
     "output_type": "execute_result"
    }
   ],
   "source": [
    "learner_details = {'Name':['Sharan','Sandeep','Chandana','Aishwarya'],\n",
    "                   'Age' :[23,24,25,22],\n",
    "                   'Place':['Bangalore','Kerala','Chennai','Bangalore']}\n",
    "learner_details"
   ]
  },
  {
   "cell_type": "code",
   "execution_count": 82,
   "id": "d280ab7a",
   "metadata": {},
   "outputs": [],
   "source": [
    "import pandas as pd"
   ]
  },
  {
   "cell_type": "code",
   "execution_count": 83,
   "id": "8ebcd441",
   "metadata": {},
   "outputs": [
    {
     "data": {
      "text/html": [
       "<div>\n",
       "<style scoped>\n",
       "    .dataframe tbody tr th:only-of-type {\n",
       "        vertical-align: middle;\n",
       "    }\n",
       "\n",
       "    .dataframe tbody tr th {\n",
       "        vertical-align: top;\n",
       "    }\n",
       "\n",
       "    .dataframe thead th {\n",
       "        text-align: right;\n",
       "    }\n",
       "</style>\n",
       "<table border=\"1\" class=\"dataframe\">\n",
       "  <thead>\n",
       "    <tr style=\"text-align: right;\">\n",
       "      <th></th>\n",
       "      <th>Name</th>\n",
       "      <th>Age</th>\n",
       "      <th>Place</th>\n",
       "    </tr>\n",
       "  </thead>\n",
       "  <tbody>\n",
       "    <tr>\n",
       "      <th>0</th>\n",
       "      <td>Sharan</td>\n",
       "      <td>23</td>\n",
       "      <td>Bangalore</td>\n",
       "    </tr>\n",
       "    <tr>\n",
       "      <th>1</th>\n",
       "      <td>Sandeep</td>\n",
       "      <td>24</td>\n",
       "      <td>Kerala</td>\n",
       "    </tr>\n",
       "    <tr>\n",
       "      <th>2</th>\n",
       "      <td>Chandana</td>\n",
       "      <td>25</td>\n",
       "      <td>Chennai</td>\n",
       "    </tr>\n",
       "    <tr>\n",
       "      <th>3</th>\n",
       "      <td>Aishwarya</td>\n",
       "      <td>22</td>\n",
       "      <td>Bangalore</td>\n",
       "    </tr>\n",
       "  </tbody>\n",
       "</table>\n",
       "</div>"
      ],
      "text/plain": [
       "        Name  Age      Place\n",
       "0     Sharan   23  Bangalore\n",
       "1    Sandeep   24     Kerala\n",
       "2   Chandana   25    Chennai\n",
       "3  Aishwarya   22  Bangalore"
      ]
     },
     "execution_count": 83,
     "metadata": {},
     "output_type": "execute_result"
    }
   ],
   "source": [
    "pd.DataFrame(data=learner_details)"
   ]
  },
  {
   "cell_type": "markdown",
   "id": "d05d4e47",
   "metadata": {},
   "source": [
    "# THE END!!!"
   ]
  }
 ],
 "metadata": {
  "kernelspec": {
   "display_name": "Python 3 (ipykernel)",
   "language": "python",
   "name": "python3"
  },
  "language_info": {
   "codemirror_mode": {
    "name": "ipython",
    "version": 3
   },
   "file_extension": ".py",
   "mimetype": "text/x-python",
   "name": "python",
   "nbconvert_exporter": "python",
   "pygments_lexer": "ipython3",
   "version": "3.9.7"
  }
 },
 "nbformat": 4,
 "nbformat_minor": 5
}
